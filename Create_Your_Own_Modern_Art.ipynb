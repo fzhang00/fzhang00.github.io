{
  "nbformat": 4,
  "nbformat_minor": 0,
  "metadata": {
    "colab": {
      "name": "Create Your Own: Modern Art.ipynb",
      "provenance": [],
      "collapsed_sections": [],
      "authorship_tag": "ABX9TyM5U42krnBHleWMCpGkr389",
      "include_colab_link": true
    },
    "kernelspec": {
      "name": "python3",
      "display_name": "Python 3"
    },
    "language_info": {
      "name": "python"
    }
  },
  "cells": [
    {
      "cell_type": "markdown",
      "metadata": {
        "id": "view-in-github",
        "colab_type": "text"
      },
      "source": [
        "<a href=\"https://colab.research.google.com/github/fzhang00/fzhang00.github.io/blob/master/Create_Your_Own_Modern_Art.ipynb\" target=\"_parent\"><img src=\"https://colab.research.google.com/assets/colab-badge.svg\" alt=\"Open In Colab\"/></a>"
      ]
    },
    {
      "cell_type": "markdown",
      "metadata": {
        "id": "luqTZZUPHrEh"
      },
      "source": [
        "In this series of learning, we are going to use Turtle module to create a series of animation art. We are going to learn some basic concept of computer imaging, and learn how to control colors using the RGB color represetation in our code. See below for a overview: "
      ]
    },
    {
      "cell_type": "code",
      "metadata": {
        "colab": {
          "base_uri": "https://localhost:8080/",
          "height": 336
        },
        "id": "TshsmCr9IB1p",
        "outputId": "1f2b486f-1d49-4ce9-a7b7-bc7ec5b29de6"
      },
      "source": [
        "from IPython.display import HTML\n",
        "HTML('<iframe width=\"560\" height=\"315\" src=\"https://www.youtube.com/embed/NmDJwyBtVt0\" frameborder=\"0\" allow=\"accelerometer; autoplay; encrypted-media; gyroscope; picture-in-picture\" allowfullscreen></iframe>')"
      ],
      "execution_count": null,
      "outputs": [
        {
          "output_type": "execute_result",
          "data": {
            "text/html": [
              "<iframe width=\"560\" height=\"315\" src=\"https://www.youtube.com/embed/NmDJwyBtVt0\" frameborder=\"0\" allow=\"accelerometer; autoplay; encrypted-media; gyroscope; picture-in-picture\" allowfullscreen></iframe>"
            ],
            "text/plain": [
              "<IPython.core.display.HTML object>"
            ]
          },
          "metadata": {},
          "execution_count": 4
        }
      ]
    },
    {
      "cell_type": "markdown",
      "metadata": {
        "id": "5bjINWqYINz4"
      },
      "source": [
        "# Use Turtle to Create Generative Art\n",
        "## 1.1 Color and Shapes\n",
        "How does computer display images, and show color? How do we instruct our program on specific color? Watch the video, and see if you can catch the meaning of pixel, resolution, pixel density and RGB color."
      ]
    },
    {
      "cell_type": "code",
      "metadata": {
        "colab": {
          "base_uri": "https://localhost:8080/",
          "height": 336
        },
        "id": "AyeJV0GSGRij",
        "outputId": "23cf9248-76fb-4d8f-e84e-3056409aaccf"
      },
      "source": [
        "from IPython.display import HTML\n",
        "HTML('<iframe width=\"560\" height=\"315\" src=\"https://www.youtube.com/embed/15aqFQQVBWU\" frameborder=\"0\" allow=\"accelerometer; autoplay; encrypted-media; gyroscope; picture-in-picture\" allowfullscreen></iframe>')"
      ],
      "execution_count": null,
      "outputs": [
        {
          "output_type": "execute_result",
          "data": {
            "text/html": [
              "<iframe width=\"560\" height=\"315\" src=\"https://www.youtube.com/embed/15aqFQQVBWU\" frameborder=\"0\" allow=\"accelerometer; autoplay; encrypted-media; gyroscope; picture-in-picture\" allowfullscreen></iframe>"
            ],
            "text/plain": [
              "<IPython.core.display.HTML object>"
            ]
          },
          "metadata": {},
          "execution_count": 2
        }
      ]
    },
    {
      "cell_type": "markdown",
      "metadata": {
        "id": "F1TwLW2K9BfG"
      },
      "source": [
        " After the video, write down these definition:\n",
        "* Pixel:\n",
        "* Resolution:\n",
        "* Pixel Density:\n",
        "* RGB color: \n",
        "\n",
        "Play with the color picker tool to observe how RGB number changes to make different color: \n",
        "* Use this [color picker tool](https://developer.mozilla.org/en-US/docs/Web/CSS/CSS_Colors/Color_picker_tool) to pick three color code for each color, and write it down.\n",
        "  * Three red/yellow colors:\n",
        "  * Three yellow/green colors:\n",
        "  * Three green/blue/purple colors: \n",
        "\n",
        "If you have problem catching these concept from the video, here is a longer version where I explains them. This video is 20 minutes long. I made some extension on the pixel density and RGB color picker. They can be found at the following time in the video. \n",
        "\n",
        "* 7:35 Calculating pixel density\n",
        "* 13:40 RGB color picker\n",
        "\n",
        "\n",
        "\n"
      ]
    },
    {
      "cell_type": "code",
      "metadata": {
        "id": "XslWIs606jS_",
        "colab": {
          "base_uri": "https://localhost:8080/",
          "height": 336
        },
        "outputId": "3b313c25-3cf9-4e39-9cc2-e0a1c9ff20d6"
      },
      "source": [
        "from IPython.display import HTML\n",
        "HTML('<iframe width=\"560\" height=\"315\" src=\"https://www.youtube.com/embed/cs73Vxl-If8\" frameborder=\"0\" allow=\"accelerometer; autoplay; encrypted-media; gyroscope; picture-in-picture\" allowfullscreen></iframe>')"
      ],
      "execution_count": null,
      "outputs": [
        {
          "output_type": "execute_result",
          "data": {
            "text/html": [
              "<iframe width=\"560\" height=\"315\" src=\"https://www.youtube.com/embed/cs73Vxl-If8\" frameborder=\"0\" allow=\"accelerometer; autoplay; encrypted-media; gyroscope; picture-in-picture\" allowfullscreen></iframe>"
            ],
            "text/plain": [
              "<IPython.core.display.HTML object>"
            ]
          },
          "metadata": {},
          "execution_count": 1
        }
      ]
    },
    {
      "cell_type": "markdown",
      "metadata": {
        "id": "3UT_p2gWClaf"
      },
      "source": [
        "## 1.2 Turtle Tutorial \n",
        "\n",
        "Watch the first **20 minutes** of this Turtle tutorial to get an idea of how turtle works. [Turtle Tutorial](https://youtu.be/pxKu2pQ7ILo)\n",
        "\n",
        "\n",
        "\n"
      ]
    },
    {
      "cell_type": "code",
      "metadata": {
        "colab": {
          "base_uri": "https://localhost:8080/",
          "height": 336
        },
        "id": "WutIDoGcHQ0k",
        "outputId": "181e3c76-da42-4653-c58c-c707f1158543"
      },
      "source": [
        "from IPython.display import HTML\n",
        "HTML('<iframe width=\"560\" height=\"315\" src=\"https://www.youtube.com/embed/pxKu2pQ7ILo\" frameborder=\"0\" allow=\"accelerometer; autoplay; encrypted-media; gyroscope; picture-in-picture\" allowfullscreen></iframe>')"
      ],
      "execution_count": null,
      "outputs": [
        {
          "output_type": "execute_result",
          "data": {
            "text/html": [
              "<iframe width=\"560\" height=\"315\" src=\"https://www.youtube.com/embed/pxKu2pQ7ILo\" frameborder=\"0\" allow=\"accelerometer; autoplay; encrypted-media; gyroscope; picture-in-picture\" allowfullscreen></iframe>"
            ],
            "text/plain": [
              "<IPython.core.display.HTML object>"
            ]
          },
          "metadata": {},
          "execution_count": 3
        }
      ]
    },
    {
      "cell_type": "markdown",
      "metadata": {
        "id": "LnH2liTOHNp_"
      },
      "source": [
        "## 1.3 Project: Modern Art\n",
        "\n",
        "In this project, you will learn and review\n",
        "* Writing functions and loops in Python\n",
        "* How to draw rectangle, circle, and other shapes using loops, \n",
        "* Create a function for each shape to build a library of shape creation\n",
        "* How to control color\n",
        "\n",
        "See link to project here: [Modern Art](https://projects.raspberrypi.org/en/projects/modern-art)\n",
        "\n",
        "## 1.4 Project Extention\n",
        "\n",
        "1. Include more shape into your project. The [Turtle Snowflakes](https://projects.raspberrypi.org/en/projects/turtle-snowflakes) project has instruction on creating flower shape out of parallelogram and snow flakes. Add these shapes into your project\n",
        "\n",
        "2. You have created code to draw various shapes, and make animated art using these shapes. Can you change the program so that your program cycle through these shape to create a lengthy animation art. \n",
        "\n",
        "3. Modify your random color function so that we can generate specific spectrum of color. ie. generate random color from red to yellow, or blue to green. This image below can help you decide how to limit your random number generator to achieve this.\n",
        "\n",
        "<img src=\"https://previews.123rf.com/images/sailom/sailom1404/sailom140400002/27612554-rgb-color-wheel-for-design-and-graphic-work-with-color-code.jpg\" width=\"500\">\n",
        "\n",
        "4. Research and find out how to add background music to your art. "
      ]
    }
  ]
}