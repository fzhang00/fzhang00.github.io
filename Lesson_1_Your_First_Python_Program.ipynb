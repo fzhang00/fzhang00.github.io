{
  "nbformat": 4,
  "nbformat_minor": 0,
  "metadata": {
    "colab": {
      "name": "Lesson 1 - Your First Python Program.ipynb",
      "provenance": [],
      "authorship_tag": "ABX9TyO1FVIB5wfRhare2SZUHxsZ",
      "include_colab_link": true
    },
    "kernelspec": {
      "name": "python3",
      "display_name": "Python 3"
    },
    "language_info": {
      "name": "python"
    }
  },
  "cells": [
    {
      "cell_type": "markdown",
      "metadata": {
        "id": "view-in-github",
        "colab_type": "text"
      },
      "source": [
        "<a href=\"https://colab.research.google.com/github/fzhang00/fzhang00.github.io/blob/master/Lesson_1_Your_First_Python_Program.ipynb\" target=\"_parent\"><img src=\"https://colab.research.google.com/assets/colab-badge.svg\" alt=\"Open In Colab\"/></a>"
      ]
    },
    {
      "cell_type": "code",
      "metadata": {
        "id": "a5ordoicAFoA"
      },
      "source": [
        ""
      ],
      "execution_count": null,
      "outputs": []
    },
    {
      "cell_type": "markdown",
      "metadata": {
        "id": "vfcN1vvWAO5j"
      },
      "source": [
        "Welcome to your first Python lesson. In this lesson, we will build your first Python program together. \n",
        "\n",
        "* Take away\n",
        "  * What is a Python file\n",
        "  * What can I use to create Python program\n",
        "  * How to run a Python program\n",
        "  * Our first program with ```print()``` and ```input()```\n",
        "\n",
        "Let's begin...\n",
        "\n",
        "# Python File\n",
        "\n",
        "When you create a Python program, you simply start typing your code in a text editor, and you save the file "
      ]
    },
    {
      "cell_type": "code",
      "metadata": {
        "colab": {
          "base_uri": "https://localhost:8080/",
          "height": 336
        },
        "id": "MXKMcqcdBU4A",
        "outputId": "f0d75625-1019-4b59-f097-ac76054973bb"
      },
      "source": [
        "from IPython.display import HTML\n",
        "\n",
        "HTML('<iframe width=\"560\" height=\"315\" src=\"https://www.youtube.com/embed/lTTZ8PkQ_Pk\" frameborder=\"0\" allow=\"accelerometer; autoplay; encrypted-media; gyroscope; picture-in-picture\" allowfullscreen></iframe>')"
      ],
      "execution_count": 1,
      "outputs": [
        {
          "output_type": "execute_result",
          "data": {
            "text/html": [
              "<iframe width=\"560\" height=\"315\" src=\"https://www.youtube.com/embed/lTTZ8PkQ_Pk\" frameborder=\"0\" allow=\"accelerometer; autoplay; encrypted-media; gyroscope; picture-in-picture\" allowfullscreen></iframe>"
            ],
            "text/plain": [
              "<IPython.core.display.HTML object>"
            ]
          },
          "metadata": {
            "tags": []
          },
          "execution_count": 1
        }
      ]
    }
  ]
}